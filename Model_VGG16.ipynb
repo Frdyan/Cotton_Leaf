{
  "nbformat": 4,
  "nbformat_minor": 0,
  "metadata": {
    "colab": {
      "provenance": [],
      "gpuType": "T4"
    },
    "kernelspec": {
      "name": "python3",
      "display_name": "Python 3"
    },
    "language_info": {
      "name": "python"
    },
    "accelerator": "GPU"
  },
  "cells": [
    {
      "cell_type": "code",
      "source": [
        "from google.colab import drive\n",
        "drive.mount('/content/drive')"
      ],
      "metadata": {
        "colab": {
          "base_uri": "https://localhost:8080/"
        },
        "id": "nTulZBWPvepx",
        "outputId": "38b1bcf2-f337-4895-e26f-2ee56974809d"
      },
      "execution_count": 1,
      "outputs": [
        {
          "output_type": "stream",
          "name": "stdout",
          "text": [
            "Drive already mounted at /content/drive; to attempt to forcibly remount, call drive.mount(\"/content/drive\", force_remount=True).\n"
          ]
        }
      ]
    },
    {
      "cell_type": "code",
      "source": [
        "import zipfile\n",
        "\n",
        "# Nama file zip yang ingin diekstrak\n",
        "zip_file_path = \"/content/drive/MyDrive/Database/cotton_2.zip\"\n",
        "\n",
        "# Direktori tempat Anda ingin mengekstrak file\n",
        "extract_to_directory = \"/content\"\n",
        "\n",
        "# Membuka file zip\n",
        "with zipfile.ZipFile(zip_file_path, 'r') as zip_ref:\n",
        "    # Mengekstrak seluruh isi file ke direktori tertentu\n",
        "    zip_ref.extractall(extract_to_directory)\n",
        "\n",
        "print(\"File zip berhasil diekstrak.\")"
      ],
      "metadata": {
        "colab": {
          "base_uri": "https://localhost:8080/"
        },
        "id": "FAZb4ll4vgmh",
        "outputId": "075c4641-5763-4a4e-9c0e-5093d2d7c0ad"
      },
      "execution_count": 2,
      "outputs": [
        {
          "output_type": "stream",
          "name": "stdout",
          "text": [
            "File zip berhasil diekstrak.\n"
          ]
        }
      ]
    },
    {
      "cell_type": "code",
      "execution_count": 3,
      "metadata": {
        "id": "8VK7HD9Guu9J"
      },
      "outputs": [],
      "source": [
        "from tensorflow.keras.layers import Input, Lambda, Dense, Flatten\n",
        "from tensorflow.keras.models import Model\n",
        "from keras.applications.vgg16 import VGG16\n",
        "from tensorflow.keras.applications.inception_v3 import preprocess_input\n",
        "from tensorflow.keras.preprocessing import image\n",
        "from tensorflow.keras.preprocessing.image import ImageDataGenerator,load_img\n",
        "from tensorflow.keras.models import Sequential\n",
        "import numpy as np\n",
        "from glob import glob"
      ]
    },
    {
      "cell_type": "code",
      "source": [
        "# Re-sizing all the Images\n",
        "IMAGE_SIZE = [224, 224]\n",
        "\n",
        "train_path = '/content/cotton_2/train'\n",
        "valid_path = '/content/cotton_2/test'"
      ],
      "metadata": {
        "id": "Hdf_9xnouzaB"
      },
      "execution_count": 4,
      "outputs": []
    },
    {
      "cell_type": "code",
      "source": [
        "# Here we will be using imagenet weights\n",
        "\n",
        "vgg16 = VGG16(input_shape=IMAGE_SIZE + [3], weights='imagenet', include_top=False)"
      ],
      "metadata": {
        "id": "tQFT70KNu5K4",
        "colab": {
          "base_uri": "https://localhost:8080/"
        },
        "outputId": "d8f66775-7641-4699-aa25-35452bff48cb"
      },
      "execution_count": 5,
      "outputs": [
        {
          "output_type": "stream",
          "name": "stdout",
          "text": [
            "Downloading data from https://storage.googleapis.com/tensorflow/keras-applications/vgg16/vgg16_weights_tf_dim_ordering_tf_kernels_notop.h5\n",
            "58889256/58889256 [==============================] - 1s 0us/step\n"
          ]
        }
      ]
    },
    {
      "cell_type": "code",
      "source": [
        "# don't train existing weights\n",
        "for layer in vgg16.layers:\n",
        "    layer.trainable = False"
      ],
      "metadata": {
        "id": "TpBo9p8ru7-i"
      },
      "execution_count": 6,
      "outputs": []
    },
    {
      "cell_type": "code",
      "source": [
        "# useful for getting number of output classes\n",
        "folders = glob('/content/cotton_2/train/*')"
      ],
      "metadata": {
        "id": "0e0E91-tu9tt"
      },
      "execution_count": 7,
      "outputs": []
    },
    {
      "cell_type": "code",
      "source": [
        "# Flatten the input\n",
        "x = Flatten()(vgg16.output)"
      ],
      "metadata": {
        "id": "KSRqpBiZu-oL"
      },
      "execution_count": 8,
      "outputs": []
    },
    {
      "cell_type": "code",
      "source": [
        "prediction = Dense(len(folders), activation='softmax')(x)\n",
        "\n",
        "#create a model object\n",
        "model = Model(inputs=vgg16.input, outputs=prediction)"
      ],
      "metadata": {
        "id": "bhuySkihu_3T"
      },
      "execution_count": 9,
      "outputs": []
    },
    {
      "cell_type": "code",
      "source": [
        "# Model Summary\n",
        "model.summary()"
      ],
      "metadata": {
        "colab": {
          "base_uri": "https://localhost:8080/"
        },
        "id": "bvHPQ-B3vCmN",
        "outputId": "f874bc7a-af04-4146-e1e3-fc3bf5d2ba05"
      },
      "execution_count": 10,
      "outputs": [
        {
          "output_type": "stream",
          "name": "stdout",
          "text": [
            "Model: \"model\"\n",
            "_________________________________________________________________\n",
            " Layer (type)                Output Shape              Param #   \n",
            "=================================================================\n",
            " input_1 (InputLayer)        [(None, 224, 224, 3)]     0         \n",
            "                                                                 \n",
            " block1_conv1 (Conv2D)       (None, 224, 224, 64)      1792      \n",
            "                                                                 \n",
            " block1_conv2 (Conv2D)       (None, 224, 224, 64)      36928     \n",
            "                                                                 \n",
            " block1_pool (MaxPooling2D)  (None, 112, 112, 64)      0         \n",
            "                                                                 \n",
            " block2_conv1 (Conv2D)       (None, 112, 112, 128)     73856     \n",
            "                                                                 \n",
            " block2_conv2 (Conv2D)       (None, 112, 112, 128)     147584    \n",
            "                                                                 \n",
            " block2_pool (MaxPooling2D)  (None, 56, 56, 128)       0         \n",
            "                                                                 \n",
            " block3_conv1 (Conv2D)       (None, 56, 56, 256)       295168    \n",
            "                                                                 \n",
            " block3_conv2 (Conv2D)       (None, 56, 56, 256)       590080    \n",
            "                                                                 \n",
            " block3_conv3 (Conv2D)       (None, 56, 56, 256)       590080    \n",
            "                                                                 \n",
            " block3_pool (MaxPooling2D)  (None, 28, 28, 256)       0         \n",
            "                                                                 \n",
            " block4_conv1 (Conv2D)       (None, 28, 28, 512)       1180160   \n",
            "                                                                 \n",
            " block4_conv2 (Conv2D)       (None, 28, 28, 512)       2359808   \n",
            "                                                                 \n",
            " block4_conv3 (Conv2D)       (None, 28, 28, 512)       2359808   \n",
            "                                                                 \n",
            " block4_pool (MaxPooling2D)  (None, 14, 14, 512)       0         \n",
            "                                                                 \n",
            " block5_conv1 (Conv2D)       (None, 14, 14, 512)       2359808   \n",
            "                                                                 \n",
            " block5_conv2 (Conv2D)       (None, 14, 14, 512)       2359808   \n",
            "                                                                 \n",
            " block5_conv3 (Conv2D)       (None, 14, 14, 512)       2359808   \n",
            "                                                                 \n",
            " block5_pool (MaxPooling2D)  (None, 7, 7, 512)         0         \n",
            "                                                                 \n",
            " flatten (Flatten)           (None, 25088)             0         \n",
            "                                                                 \n",
            " dense (Dense)               (None, 4)                 100356    \n",
            "                                                                 \n",
            "=================================================================\n",
            "Total params: 14815044 (56.51 MB)\n",
            "Trainable params: 100356 (392.02 KB)\n",
            "Non-trainable params: 14714688 (56.13 MB)\n",
            "_________________________________________________________________\n"
          ]
        }
      ]
    },
    {
      "cell_type": "code",
      "source": [
        "# Compile the Model\n",
        "model.compile( loss='categorical_crossentropy',\n",
        "               optimizer='adam',\n",
        "               metrics=['accuracy'])"
      ],
      "metadata": {
        "id": "9Kx8HxbYvEMg"
      },
      "execution_count": 11,
      "outputs": []
    },
    {
      "cell_type": "code",
      "source": [
        "# Use the Image Data Generator to import the images from the dataset\n",
        "from tensorflow.keras.preprocessing.image import ImageDataGenerator\n",
        "\n",
        "train_datagen = ImageDataGenerator(rescale = 1./255,\n",
        "                                   shear_range = 0.2,\n",
        "                                   zoom_range = 0.2,\n",
        "                                   horizontal_flip = True)\n",
        "\n",
        "test_datagen = ImageDataGenerator(rescale = 1./255)"
      ],
      "metadata": {
        "id": "zFJj-6GevFMP"
      },
      "execution_count": 12,
      "outputs": []
    },
    {
      "cell_type": "code",
      "source": [
        "# Make sure you provide the same target size as initialied for the image size\n",
        "training_set = train_datagen.flow_from_directory('/content/cotton_2/train',\n",
        "                                                 target_size = (224, 224),\n",
        "                                                 batch_size = 32,\n",
        "                                                 class_mode = 'categorical')"
      ],
      "metadata": {
        "colab": {
          "base_uri": "https://localhost:8080/"
        },
        "id": "tStWy5LNvGo5",
        "outputId": "a698617b-bef3-4986-b32b-777b3a1ce968"
      },
      "execution_count": 13,
      "outputs": [
        {
          "output_type": "stream",
          "name": "stdout",
          "text": [
            "Found 1348 images belonging to 4 classes.\n"
          ]
        }
      ]
    },
    {
      "cell_type": "code",
      "source": [
        "test_set = test_datagen.flow_from_directory('/content/cotton_2/test',\n",
        "                                            target_size = (224, 224),\n",
        "                                            batch_size = 32,\n",
        "                                            class_mode = 'categorical')"
      ],
      "metadata": {
        "colab": {
          "base_uri": "https://localhost:8080/"
        },
        "id": "spGjq1FzvMtK",
        "outputId": "e6747d43-78c2-4360-bd34-d6c340ab4c06"
      },
      "execution_count": 14,
      "outputs": [
        {
          "output_type": "stream",
          "name": "stdout",
          "text": [
            "Found 20 images belonging to 4 classes.\n"
          ]
        }
      ]
    },
    {
      "cell_type": "code",
      "source": [
        "# Fit the model\n",
        "r = model.fit_generator( training_set,\n",
        "                         validation_data=test_set,\n",
        "                        epochs=20,\n",
        "                        steps_per_epoch=len(training_set),\n",
        "                         validation_steps=len(test_set))"
      ],
      "metadata": {
        "colab": {
          "base_uri": "https://localhost:8080/"
        },
        "id": "kC-PmArTvN4K",
        "outputId": "e2dd79d5-2a1a-44d1-ced7-7b193b3013a1"
      },
      "execution_count": 15,
      "outputs": [
        {
          "output_type": "stream",
          "name": "stderr",
          "text": [
            "<ipython-input-15-7101ccf945b5>:2: UserWarning: `Model.fit_generator` is deprecated and will be removed in a future version. Please use `Model.fit`, which supports generators.\n",
            "  r = model.fit_generator( training_set,\n"
          ]
        },
        {
          "output_type": "stream",
          "name": "stdout",
          "text": [
            "Epoch 1/20\n",
            "43/43 [==============================] - 35s 600ms/step - loss: 0.6600 - accuracy: 0.7678 - val_loss: 0.3784 - val_accuracy: 0.8000\n",
            "Epoch 2/20\n",
            "43/43 [==============================] - 22s 516ms/step - loss: 0.1911 - accuracy: 0.9458 - val_loss: 0.4006 - val_accuracy: 0.8500\n",
            "Epoch 3/20\n",
            "43/43 [==============================] - 21s 491ms/step - loss: 0.1237 - accuracy: 0.9696 - val_loss: 0.3898 - val_accuracy: 0.8000\n",
            "Epoch 4/20\n",
            "43/43 [==============================] - 22s 513ms/step - loss: 0.0746 - accuracy: 0.9815 - val_loss: 0.4475 - val_accuracy: 0.7500\n",
            "Epoch 5/20\n",
            "43/43 [==============================] - 20s 475ms/step - loss: 0.0679 - accuracy: 0.9822 - val_loss: 0.1830 - val_accuracy: 0.9500\n",
            "Epoch 6/20\n",
            "43/43 [==============================] - 22s 512ms/step - loss: 0.0527 - accuracy: 0.9896 - val_loss: 0.1535 - val_accuracy: 0.9500\n",
            "Epoch 7/20\n",
            "43/43 [==============================] - 21s 478ms/step - loss: 0.0311 - accuracy: 0.9963 - val_loss: 0.1948 - val_accuracy: 0.9500\n",
            "Epoch 8/20\n",
            "43/43 [==============================] - 22s 512ms/step - loss: 0.0254 - accuracy: 0.9963 - val_loss: 0.2249 - val_accuracy: 0.9000\n",
            "Epoch 9/20\n",
            "43/43 [==============================] - 22s 511ms/step - loss: 0.0251 - accuracy: 0.9948 - val_loss: 0.1617 - val_accuracy: 0.9500\n",
            "Epoch 10/20\n",
            "43/43 [==============================] - 21s 481ms/step - loss: 0.0192 - accuracy: 1.0000 - val_loss: 0.2223 - val_accuracy: 0.9500\n",
            "Epoch 11/20\n",
            "43/43 [==============================] - 22s 502ms/step - loss: 0.0138 - accuracy: 0.9993 - val_loss: 0.3033 - val_accuracy: 0.9000\n",
            "Epoch 12/20\n",
            "43/43 [==============================] - 21s 486ms/step - loss: 0.0212 - accuracy: 0.9970 - val_loss: 0.2088 - val_accuracy: 0.9500\n",
            "Epoch 13/20\n",
            "43/43 [==============================] - 21s 477ms/step - loss: 0.0087 - accuracy: 1.0000 - val_loss: 0.2211 - val_accuracy: 0.9000\n",
            "Epoch 14/20\n",
            "43/43 [==============================] - 22s 511ms/step - loss: 0.0078 - accuracy: 1.0000 - val_loss: 0.2298 - val_accuracy: 0.9000\n",
            "Epoch 15/20\n",
            "43/43 [==============================] - 21s 478ms/step - loss: 0.0071 - accuracy: 1.0000 - val_loss: 0.2160 - val_accuracy: 0.9000\n",
            "Epoch 16/20\n",
            "43/43 [==============================] - 22s 513ms/step - loss: 0.0081 - accuracy: 1.0000 - val_loss: 0.2893 - val_accuracy: 0.9000\n",
            "Epoch 17/20\n",
            "43/43 [==============================] - 21s 480ms/step - loss: 0.0066 - accuracy: 1.0000 - val_loss: 0.1216 - val_accuracy: 0.9500\n",
            "Epoch 18/20\n",
            "43/43 [==============================] - 22s 520ms/step - loss: 0.0066 - accuracy: 0.9993 - val_loss: 0.1195 - val_accuracy: 0.9500\n",
            "Epoch 19/20\n",
            "43/43 [==============================] - 21s 494ms/step - loss: 0.0050 - accuracy: 1.0000 - val_loss: 0.1737 - val_accuracy: 0.9500\n",
            "Epoch 20/20\n",
            "43/43 [==============================] - 22s 517ms/step - loss: 0.0047 - accuracy: 1.0000 - val_loss: 0.1850 - val_accuracy: 0.9500\n"
          ]
        }
      ]
    },
    {
      "cell_type": "code",
      "source": [
        "import matplotlib.pyplot as plt"
      ],
      "metadata": {
        "id": "aha9IHOgvPTV"
      },
      "execution_count": 16,
      "outputs": []
    },
    {
      "cell_type": "code",
      "source": [
        "#Ploting Acuracy & Loss\n",
        "import matplotlib.pyplot as plt\n",
        "plt.plot(r.history['accuracy'])\n",
        "plt.plot(r.history['val_accuracy'])\n",
        "plt.plot(r.history['loss'])\n",
        "plt.plot(r.history['val_loss'])\n",
        "plt.title(\"Model Accuracy\")\n",
        "plt.ylabel(\"Accuracy\")\n",
        "plt.xlabel(\"Epoch\")\n",
        "plt.legend([\"Accuracy\",\"Validation Accuracy\",\"loss\",\"Validation Loss\"])\n",
        "plt.show()"
      ],
      "metadata": {
        "id": "63eLyqbsvQP-",
        "colab": {
          "base_uri": "https://localhost:8080/",
          "height": 472
        },
        "outputId": "de4bdebe-6bb3-44ca-9f60-7e71dbbf519e"
      },
      "execution_count": 17,
      "outputs": [
        {
          "output_type": "display_data",
          "data": {
            "text/plain": [
              "<Figure size 640x480 with 1 Axes>"
            ],
            "image/png": "[encoded data removed]"
          },
          "metadata": {}
        }
      ]
    },
    {
      "cell_type": "code",
      "source": [
        "#Save the model as h5 file\n",
        "from tensorflow.keras.models import load_model\n",
        "model.save('model_vgg16.h5')"
      ],
      "metadata": {
        "id": "-g1R0CVMvRPH",
        "colab": {
          "base_uri": "https://localhost:8080/"
        },
        "outputId": "404ba48b-9206-406d-de40-2ad022239f62"
      },
      "execution_count": 18,
      "outputs": [
        {
          "output_type": "stream",
          "name": "stderr",
          "text": [
            "/usr/local/lib/python3.10/dist-packages/keras/src/engine/training.py:3103: UserWarning: You are saving your model as an HDF5 file via `model.save()`. This file format is considered legacy. We recommend using instead the native Keras format, e.g. `model.save('my_model.keras')`.\n",
            "  saving_api.save_model(\n"
          ]
        }
      ]
    }
  ]
}